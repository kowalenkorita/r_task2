{
 "cells": [
  {
   "cell_type": "code",
   "execution_count": 260,
   "metadata": {},
   "outputs": [],
   "source": [
    "import pandas as pd\n",
    "from scipy import stats\n",
    "import numpy as np"
   ]
  },
  {
   "cell_type": "code",
   "execution_count": 261,
   "metadata": {},
   "outputs": [
    {
     "data": {
      "text/html": [
       "<div>\n",
       "<style scoped>\n",
       "    .dataframe tbody tr th:only-of-type {\n",
       "        vertical-align: middle;\n",
       "    }\n",
       "\n",
       "    .dataframe tbody tr th {\n",
       "        vertical-align: top;\n",
       "    }\n",
       "\n",
       "    .dataframe thead th {\n",
       "        text-align: right;\n",
       "    }\n",
       "</style>\n",
       "<table border=\"1\" class=\"dataframe\">\n",
       "  <thead>\n",
       "    <tr style=\"text-align: right;\">\n",
       "      <th></th>\n",
       "      <th>№</th>\n",
       "      <th>id</th>\n",
       "      <th>vol</th>\n",
       "      <th>seg</th>\n",
       "    </tr>\n",
       "  </thead>\n",
       "  <tbody>\n",
       "    <tr>\n",
       "      <th>0</th>\n",
       "      <td>1</td>\n",
       "      <td>ADF346274</td>\n",
       "      <td>1000</td>\n",
       "      <td>R</td>\n",
       "    </tr>\n",
       "    <tr>\n",
       "      <th>1</th>\n",
       "      <td>2</td>\n",
       "      <td>JDY272800</td>\n",
       "      <td>600</td>\n",
       "      <td>AF</td>\n",
       "    </tr>\n",
       "    <tr>\n",
       "      <th>2</th>\n",
       "      <td>3</td>\n",
       "      <td>ADF346274</td>\n",
       "      <td>2460</td>\n",
       "      <td>R</td>\n",
       "    </tr>\n",
       "    <tr>\n",
       "      <th>3</th>\n",
       "      <td>4</td>\n",
       "      <td>TDG254776</td>\n",
       "      <td>4000</td>\n",
       "      <td>R</td>\n",
       "    </tr>\n",
       "    <tr>\n",
       "      <th>4</th>\n",
       "      <td>5</td>\n",
       "      <td>RYE846234</td>\n",
       "      <td>70000</td>\n",
       "      <td>AF</td>\n",
       "    </tr>\n",
       "  </tbody>\n",
       "</table>\n",
       "</div>"
      ],
      "text/plain": [
       "   №         id    vol seg\n",
       "0  1  ADF346274   1000   R\n",
       "1  2  JDY272800    600  AF\n",
       "2  3  ADF346274   2460   R\n",
       "3  4  TDG254776   4000   R\n",
       "4  5  RYE846234  70000  AF"
      ]
     },
     "execution_count": 261,
     "metadata": {},
     "output_type": "execute_result"
    }
   ],
   "source": [
    "# data = pd.read_table('transactions.txt',sep=',',chunksize=10000, iterator=True)\n",
    "data = pd.read_table('/usr/local/data/transactions.txt',sep=',',chunksize=10000, iterator=True)\n",
    "\n",
    "for chunk in data:\n",
    "    chunk.to_csv('data.csv', index = False)\n",
    "\n",
    "df = pd.read_csv('data.csv',  header=None, names=[\"№\", \"id\", \"vol\", \"seg\"])\n",
    "df"
   ]
  },
  {
   "cell_type": "markdown",
   "metadata": {},
   "source": [
    "### Подсчитает количество клиентов для каждого из сегментов, совершавших транзакции. "
   ]
  },
  {
   "cell_type": "code",
   "execution_count": 262,
   "metadata": {},
   "outputs": [
    {
     "data": {
      "text/plain": [
       "R     3\n",
       "AF    2\n",
       "Name: seg, dtype: int64"
      ]
     },
     "execution_count": 262,
     "metadata": {},
     "output_type": "execute_result"
    }
   ],
   "source": [
    "df['seg'].value_counts()"
   ]
  },
  {
   "cell_type": "markdown",
   "metadata": {},
   "source": [
    "### Подсчитает средний объем отдельной транзакции в каждом из сегментов. "
   ]
  },
  {
   "cell_type": "code",
   "execution_count": 263,
   "metadata": {},
   "outputs": [
    {
     "data": {
      "text/html": [
       "<div>\n",
       "<style scoped>\n",
       "    .dataframe tbody tr th:only-of-type {\n",
       "        vertical-align: middle;\n",
       "    }\n",
       "\n",
       "    .dataframe tbody tr th {\n",
       "        vertical-align: top;\n",
       "    }\n",
       "\n",
       "    .dataframe thead th {\n",
       "        text-align: right;\n",
       "    }\n",
       "</style>\n",
       "<table border=\"1\" class=\"dataframe\">\n",
       "  <thead>\n",
       "    <tr style=\"text-align: right;\">\n",
       "      <th></th>\n",
       "      <th>vol</th>\n",
       "    </tr>\n",
       "    <tr>\n",
       "      <th>seg</th>\n",
       "      <th></th>\n",
       "    </tr>\n",
       "  </thead>\n",
       "  <tbody>\n",
       "    <tr>\n",
       "      <th>AF</th>\n",
       "      <td>35300.000000</td>\n",
       "    </tr>\n",
       "    <tr>\n",
       "      <th>R</th>\n",
       "      <td>2486.666667</td>\n",
       "    </tr>\n",
       "  </tbody>\n",
       "</table>\n",
       "</div>"
      ],
      "text/plain": [
       "              vol\n",
       "seg              \n",
       "AF   35300.000000\n",
       "R     2486.666667"
      ]
     },
     "execution_count": 263,
     "metadata": {},
     "output_type": "execute_result"
    }
   ],
   "source": [
    "df.groupby(['seg'])[['vol']].mean()"
   ]
  },
  {
   "cell_type": "markdown",
   "metadata": {},
   "source": [
    "### Подсчитает 90% доверительный интервал для среднего объема отдельной транзакции в каждом из сегментов. "
   ]
  },
  {
   "cell_type": "code",
   "execution_count": 264,
   "metadata": {},
   "outputs": [],
   "source": [
    "n = len(df.index)"
   ]
  },
  {
   "cell_type": "code",
   "execution_count": 265,
   "metadata": {},
   "outputs": [],
   "source": [
    "# вместо 3 и 2 соответственно подставляется значений из таблицы в результате выполнения df['seg'].value_counts()\n",
    "p = 3/n # 3 - вероятность исходов транзакций типа R\n",
    "q = 2/n # 2 - вероятность исходов транзакций типа AF"
   ]
  },
  {
   "cell_type": "code",
   "execution_count": 266,
   "metadata": {},
   "outputs": [
    {
     "name": "stdout",
     "output_type": "stream",
     "text": [
      "Confidence interval for R: 0.31922611957806474,0.8807738804219352\n"
     ]
    }
   ],
   "source": [
    "z_value = stats.norm.ppf(q = 0.9)\n",
    "\n",
    "# print(p - z_value * (np.sqrt((p * (1 - p)/n))), p + z_value * (np.sqrt((p * (1 - p)/n))))\n",
    "print(\"Confidence interval for R: {0},{1}\".format(p - z_value * (np.sqrt((p * (1 - p)/n))), \n",
    "                                            p + z_value * (np.sqrt((p * (1 - p)/n)))))"
   ]
  },
  {
   "cell_type": "code",
   "execution_count": 267,
   "metadata": {},
   "outputs": [
    {
     "name": "stdout",
     "output_type": "stream",
     "text": [
      "Confidence interval for AF: 0.11922611957806478,0.6807738804219352\n"
     ]
    }
   ],
   "source": [
    "# print(q - z_value * (np.sqrt((q * (1 - q)/n))), q + z_value * (np.sqrt((q * (1 - q)/n))))\n",
    "print(\"Confidence interval for AF: {0},{1}\".format(q - z_value * (np.sqrt((q * (1 - q)/n))),\n",
    "                                            q + z_value * (np.sqrt((q * (1 - q)/n)))))"
   ]
  },
  {
   "cell_type": "markdown",
   "metadata": {},
   "source": [
    "### Проверит гипотезу о равенстве средних объемов отдельных транзакций между сегментами при уровне значимости 10%. "
   ]
  },
  {
   "cell_type": "code",
   "execution_count": 269,
   "metadata": {},
   "outputs": [
    {
     "data": {
      "text/plain": [
       "0.2944172804761428"
      ]
     },
     "execution_count": 269,
     "metadata": {},
     "output_type": "execute_result"
    }
   ],
   "source": [
    "from scipy.stats import ttest_ind, ttest_rel\n",
    "\n",
    "X = df[df['seg'] == 'R']['vol']\n",
    "Y = df[df['seg'] == 'AF']['vol']\n",
    "\n",
    "answer3 = ttest_ind(X, Y).pvalue\n",
    "answer3"
   ]
  },
  {
   "cell_type": "markdown",
   "metadata": {},
   "source": [
    "Так как pvalue > 0.1, то можно подтвердить нулевую гипотезу о том, что средние объемы примерно равны для R и AF"
   ]
  },
  {
   "cell_type": "code",
   "execution_count": null,
   "metadata": {},
   "outputs": [],
   "source": []
  }
 ],
 "metadata": {
  "kernelspec": {
   "display_name": "Python 3",
   "language": "python",
   "name": "python3"
  },
  "language_info": {
   "codemirror_mode": {
    "name": "ipython",
    "version": 3
   },
   "file_extension": ".py",
   "mimetype": "text/x-python",
   "name": "python",
   "nbconvert_exporter": "python",
   "pygments_lexer": "ipython3",
   "version": "3.7.4"
  }
 },
 "nbformat": 4,
 "nbformat_minor": 2
}
